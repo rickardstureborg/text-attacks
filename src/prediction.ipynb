{
 "cells": [
  {
   "cell_type": "markdown",
   "metadata": {},
   "source": [
    "# Imports"
   ]
  },
  {
   "cell_type": "code",
   "execution_count": 1,
   "metadata": {
    "id": "f5NDXrN2CtH7"
   },
   "outputs": [],
   "source": [
    "#https://djajafer.medium.com/multi-class-text-classification-with-keras-and-lstm-4c5525bef592\n",
    "import gzip\n",
    "import json\n",
    "import pandas as pd\n",
    "from sklearn.model_selection import train_test_split\n",
    "import csv\n",
    "import tensorflow as tf\n",
    "import numpy as np\n",
    "from tensorflow.keras.preprocessing.text import Tokenizer\n",
    "from tensorflow.keras.preprocessing.sequence import pad_sequences\n",
    "from tensorflow.keras.models import Sequential, load_model\n",
    "from tensorflow.keras.layers import Dense, Flatten, LSTM, Dropout, Activation, Embedding, Bidirectional\n",
    "from tensorflow.keras.callbacks import EarlyStopping\n",
    "import pickle\n",
    "from datetime import datetime\n",
    "from nltk.corpus import stopwords"
   ]
  },
  {
   "cell_type": "markdown",
   "metadata": {},
   "source": [
    "### Data"
   ]
  },
  {
   "cell_type": "code",
   "execution_count": 2,
   "metadata": {},
   "outputs": [],
   "source": [
    "with open('../data/traindata.pickle','rb') as rf:\n",
    "    X_train, y_train = pickle.load(rf)\n",
    "\n",
    "with open('../data/valdata.pickle','rb') as rf:\n",
    "    X_val, y_val = pickle.load(rf)\n",
    "    \n",
    "with open('../data/testdata.pickle','rb') as rf:\n",
    "    X_test, y_test = pickle.load(rf)"
   ]
  },
  {
   "cell_type": "code",
   "execution_count": 13,
   "metadata": {},
   "outputs": [],
   "source": [
    "STOPWORDS = set(stopwords.words('english'))"
   ]
  },
  {
   "cell_type": "code",
   "execution_count": 15,
   "metadata": {
    "tags": []
   },
   "outputs": [],
   "source": [
    "vocab_size = 25_000\n",
    "embedding_dim = 20\n",
    "max_length = 200\n",
    "trunc_type = 'post'\n",
    "padding_type = 'post'\n",
    "oov_tok = '<OOV>'"
   ]
  },
  {
   "cell_type": "code",
   "execution_count": 11,
   "metadata": {},
   "outputs": [],
   "source": [
    "def remove_stopwords(article):\n",
    "    for word in STOPWORDS:\n",
    "            token = ' ' + word + ' '\n",
    "            article = article.replace(token, ' ')\n",
    "    return article"
   ]
  },
  {
   "cell_type": "code",
   "execution_count": 8,
   "metadata": {},
   "outputs": [],
   "source": [
    "def preprocess(data, tokenizer):\n",
    "    new_data = []\n",
    "    for datapoint in data:\n",
    "        new_data.append(remove_stopwords(datapoint))\n",
    "    # turn strings into sequences:\n",
    "    new_data = tokenizer.texts_to_sequences(new_data)\n",
    "    # pad sequences\n",
    "    return pad_sequences(new_data, maxlen=max_length, padding=padding_type, truncating=trunc_type)"
   ]
  },
  {
   "cell_type": "markdown",
   "metadata": {},
   "source": [
    "# Prediction\n",
    "copy the cell below any time you want to use your model on some data X. Also grab the relevant functions from above..."
   ]
  },
  {
   "cell_type": "code",
   "execution_count": 3,
   "metadata": {},
   "outputs": [],
   "source": [
    "with open('models/tokenizer.pickle','rb') as rf:\n",
    "    trained_tokenizer = pickle.load(rf)"
   ]
  },
  {
   "cell_type": "code",
   "execution_count": 5,
   "metadata": {},
   "outputs": [],
   "source": [
    "trained_model = load_model('models/model.apr21')"
   ]
  },
  {
   "cell_type": "code",
   "execution_count": 9,
   "metadata": {
    "tags": []
   },
   "outputs": [],
   "source": [
    "def predict(trained_model, trained_tokenizer, txt):\n",
    "    clean_input = preprocess([txt], trained_tokenizer)\n",
    "    return trained_model.predict(clean_input)"
   ]
  },
  {
   "cell_type": "code",
   "execution_count": 47,
   "metadata": {},
   "outputs": [
    {
     "name": "stdout",
     "output_type": "stream",
     "text": [
      "....  It's ... frustrating, too the point that it isn't fun.  I'm an avid gamer.  It's fun to \"role-play\" low level characters.  An orc or two can be a very scary thing.  This doesn't translate well to a computer game that wipes out an entire party in ten seconds even with the \"AI\" scripts on.  The visuals are cool, but I wish I would have plunked my money down for something else.  This game does not deliver.  Boring linear plot and hack-n-die.  Buy some dice, a figure and paper for a real roleplaying game.\n",
      "0\n",
      "[[0.9629178  0.03961608]]\n"
     ]
    }
   ],
   "source": [
    "t=20\n",
    "print(X_test[t])\n",
    "print(y_test[t])\n",
    "print(predict(trained_model, trained_tokenizer, X_test[t]))"
   ]
  },
  {
   "cell_type": "code",
   "execution_count": null,
   "metadata": {},
   "outputs": [],
   "source": [
    "X_"
   ]
  }
 ],
 "metadata": {
  "colab": {
   "collapsed_sections": [],
   "name": "parse_and_clean_meta_data.ipynb",
   "provenance": []
  },
  "kernelspec": {
   "display_name": "text-attacks",
   "language": "python",
   "name": "text-attacks"
  },
  "language_info": {
   "codemirror_mode": {
    "name": "ipython",
    "version": 3
   },
   "file_extension": ".py",
   "mimetype": "text/x-python",
   "name": "python",
   "nbconvert_exporter": "python",
   "pygments_lexer": "ipython3",
   "version": "3.7.9"
  }
 },
 "nbformat": 4,
 "nbformat_minor": 4
}
